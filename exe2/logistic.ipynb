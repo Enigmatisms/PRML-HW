{
 "cells": [
  {
   "cell_type": "code",
   "execution_count": 116,
   "metadata": {},
   "outputs": [
    {
     "name": "stdout",
     "output_type": "stream",
     "text": [
      "The autoreload extension is already loaded. To reload it, use:\n",
      "  %reload_ext autoreload\n"
     ]
    }
   ],
   "source": [
    "from sklearn.linear_model import LogisticRegression\n",
    "from sklearn.model_selection import StratifiedKFold, GridSearchCV\n",
    "from sklearn.model_selection import cross_val_predict, cross_val_score, cross_validate\n",
    "\n",
    "%load_ext autoreload\n",
    "%autoreload 2\n",
    "import sys\n",
    "sys.path.append(\"..\")\n",
    "from general.utils import *"
   ]
  },
  {
   "cell_type": "markdown",
   "metadata": {},
   "source": [
    "Define Perceptron Parameter grid search function."
   ]
  },
  {
   "cell_type": "code",
   "execution_count": 117,
   "metadata": {},
   "outputs": [],
   "source": [
    "def grid_search_params():\n",
    "    parameters = {'max_iter': list(range(20, 201, 10)),\n",
    "            'l1_ratio': [0.0, 0.05, 0.15, 0.25],\n",
    "            'penalty': [None, 'l2','l1','elasticnet'],\n",
    "            'alpha': [0.0001, 0.01, 0.]\n",
    "    }\n",
    "    clf = LogisticRegression(fit_intercept = True, C=0.01, max_iter=350, solver='saga')\n",
    "    cv = StratifiedKFold(n_splits = 3, shuffle = True)\n",
    "    gridsearch = GridSearchCV(clf, parameters, n_jobs = 12, cv = cv, scoring = 'roc_auc',\n",
    "                                      verbose = 2, refit = True)\n",
    "\n",
    "    _, _, train_set, train_label = get_samples(\"./data/train1_icu_data.csv\", \"./data/train1_icu_label.csv\", ret_raw = True)\n",
    "    gridsearch.fit(train_set, train_label.ravel())\n",
    "\n",
    "    print(gridsearch.best_estimator_)"
   ]
  },
  {
   "cell_type": "markdown",
   "metadata": {},
   "source": [
    "Load training and testing dataset from dataset 1."
   ]
  },
  {
   "cell_type": "code",
   "execution_count": 118,
   "metadata": {},
   "outputs": [],
   "source": [
    "clf = clf = LogisticRegression(fit_intercept = True, C=0.01, max_iter=350, solver='saga')\n",
    "\n",
    "_, _, train_set, train_label = get_samples(\"./data/train1_icu_data.csv\", \"./data/train1_icu_label.csv\", ret_raw = True)\n",
    "_, _, raw_test, test_labels = get_samples(\"./data/test1_icu_data.csv\", \"./data/test1_icu_label.csv\", ret_raw = True)\n",
    "\n",
    "white_train_set = data_whitening(train_set)\n",
    "white_test_set = data_whitening(raw_test)"
   ]
  },
  {
   "cell_type": "code",
   "execution_count": 119,
   "metadata": {},
   "outputs": [],
   "source": [
    "clf.fit(white_train_set, train_label.ravel())\n",
    "\n",
    "train_pred = clf.predict(white_train_set)\n",
    "test_pred = clf.predict(white_test_set)"
   ]
  },
  {
   "cell_type": "markdown",
   "metadata": {},
   "source": [
    "After direct fitting and testing, we perform cross validation."
   ]
  },
  {
   "cell_type": "code",
   "execution_count": 120,
   "metadata": {},
   "outputs": [],
   "source": [
    "cv_score = cross_val_score(clf, white_train_set, train_label.ravel(), cv = 5)"
   ]
  },
  {
   "cell_type": "code",
   "execution_count": 121,
   "metadata": {},
   "outputs": [
    {
     "name": "stdout",
     "output_type": "stream",
     "text": [
      "From dataset 1:\n",
      "Train set accuracy: 0.796200, train set error rate: 0.203800\n",
      "Test set accuracy: 0.783045, test set error rate: 0.216955\n",
      "Cross validation score:  [0.782 0.781 0.811 0.783 0.771]\n",
      "[[ 3.29467046e-01  3.41366256e-03 -1.59398307e-01 -3.02860263e-02\n",
      "   1.46090870e-01 -5.18241526e-02  4.39285977e-02 -9.57875094e-02\n",
      "   4.97491695e-02  2.37177068e-01  6.76582683e-02 -1.33494611e-01\n",
      "  -2.13932869e-01 -1.35884950e-01 -2.90392702e-02  6.88165406e-02\n",
      "   6.34652386e-02  6.35172710e-02  5.43031773e-02  6.56800553e-02\n",
      "  -1.36229208e-01 -5.13061791e-02  3.26892136e-01  2.00201302e-01\n",
      "   2.66261153e-02 -3.32722592e-02  2.09187433e-01  9.27836467e-02\n",
      "  -6.41374156e-02 -1.24064713e-01  6.15944547e-02  1.07276787e-02\n",
      "  -8.55382144e-02 -2.67692470e-01 -3.07162844e-02 -1.32504822e-01\n",
      "   1.10356350e-01 -2.39470933e-01  5.52653741e-02 -1.72555227e-02\n",
      "  -1.33216241e-01  3.02746432e-02 -1.31448908e-02 -1.28281564e-01\n",
      "   7.84183466e-02  1.30426964e-01 -5.56539214e-02  4.03461442e-02\n",
      "  -1.36593670e-02  1.16523746e-01 -1.13409378e-01 -4.04209900e-02\n",
      "   1.03337432e-01 -1.54804840e-01  3.74826521e-02 -3.51316225e-02\n",
      "  -8.00984628e-02 -1.74434022e-01 -8.32987032e-02  9.61331493e-02\n",
      "  -3.20855350e-02  3.47832085e-02  3.50011823e-01 -9.88101344e-03\n",
      "   1.00486418e-01 -3.63858947e-02  1.11202502e-01  1.07905170e-01\n",
      "   8.86042390e-03 -1.49708033e-02  1.63311620e-01 -1.18078242e-02\n",
      "   2.37511109e-03  3.01642259e-04  2.92626300e-02 -5.45844323e-03\n",
      "  -1.48285856e-02 -5.43791801e-02  5.43791801e-02  1.19515857e-02\n",
      "  -2.14559761e-02  5.96443140e-02  3.77102908e-02 -1.96741368e-02\n",
      "  -4.73877627e-02  5.03093815e-02 -2.83151196e-03 -6.12399467e-02\n",
      "  -1.50813840e-02 -3.97447562e-02 -1.36365431e-02  9.59777581e-03\n",
      "  -8.43032192e-02  1.07743277e-01  5.73993862e-02  5.41784643e-02\n",
      "   1.58686419e-02  1.01301823e-02  4.56021041e-02 -1.50813840e-02\n",
      "   9.59777581e-03 -8.43032192e-02  5.73993862e-02 -4.21036739e-02\n",
      "   5.41784643e-02  1.01301823e-02 -6.86884685e-02 -1.98800886e-01]]\n"
     ]
    }
   ],
   "source": [
    "train_set_acc = acc_calculate(train_pred, train_label)\n",
    "test_set_acc = acc_calculate(test_pred, test_labels)\n",
    "\n",
    "print(\"From dataset 1:\")\n",
    "print(\"Train set accuracy: %f, train set error rate: %f\"%(train_set_acc, 1 - train_set_acc))\n",
    "print(\"Test set accuracy: %f, test set error rate: %f\"%(test_set_acc, 1 - test_set_acc))\n",
    "print(\"Cross validation score: \", cv_score)\n",
    "print(clf.coef_)"
   ]
  },
  {
   "cell_type": "markdown",
   "metadata": {},
   "source": [
    "> Train set accuracy: 0.730600, train set error rate: 0.269400 \n",
    "> Test set accuracy: 0.714676, test set error rate: 0.285324"
   ]
  },
  {
   "cell_type": "code",
   "execution_count": 122,
   "metadata": {},
   "outputs": [],
   "source": [
    "_, _, train_set, train_label = get_samples(\"./data/train2_icu_data.csv\", \"./data/train2_icu_label.csv\", ret_raw = True)\n",
    "_, _, raw_test, test_labels = get_samples(\"./data/test2_icu_data.csv\", \"./data/test2_icu_label.csv\", ret_raw = True)\n",
    "\n",
    "white_train_set = data_whitening(train_set)\n",
    "white_test_set = data_whitening(raw_test)"
   ]
  },
  {
   "cell_type": "code",
   "execution_count": 123,
   "metadata": {},
   "outputs": [
    {
     "name": "stdout",
     "output_type": "stream",
     "text": [
      "From dataset 2:\n",
      "Train set accuracy: 0.983051, train set error rate: 0.016949\n",
      "Test set accuracy: 0.795556, test set error rate: 0.204444\n",
      "Cross validation score:  [0.97966102 0.94576271 0.97627119 0.96949153 0.97966102]\n",
      "[[ 0.26681795 -0.06789872 -0.06969236  0.0018973   0.2650843  -0.07083305\n",
      "  -0.06015903 -0.14762796  0.0785219   0.30478733  0.10294718 -0.35609752\n",
      "  -0.21696532 -0.4070388   0.07259683  0.15744375  0.03687369  0.24940427\n",
      "   0.04525705  0.126334   -0.01449234 -0.10541026  0.78461429  0.12768251\n",
      "  -0.04899573 -0.1489908   0.22718158  0.02585861  0.00461847 -0.16686198\n",
      "   0.11147182  0.02920224 -0.00209054 -0.14106152 -0.05481532 -0.18498841\n",
      "   0.09840223 -0.18092376 -0.00581048  0.01332466 -0.00966939  0.06380649\n",
      "  -0.00416893 -0.04335993  0.08027083  0.15280923 -0.11641296  0.00690226\n",
      "  -0.0539333   0.00764736 -0.16150656 -0.11041009 -0.00499501 -0.11676786\n",
      "  -0.00799814 -0.14506748 -0.04830496 -0.08689695  0.00795633  0.06801417\n",
      "  -0.00581574 -0.01417035  0.26551968 -0.01873597  0.18934991 -0.07598919\n",
      "   0.1083034   0.18076474  0.03799423 -0.01081321  0.20230062 -0.04151871\n",
      "   0.06387405 -0.01866105  0.0482193   0.00651913  0.00711709  0.01678272\n",
      "  -0.01678272 -0.00729937  0.00388106 -0.11765518  0.02662665  0.00355178\n",
      "   0.00287533 -0.00791137  0.05209868 -0.10246545 -0.06258937 -0.0124857\n",
      "   0.          0.02556789 -0.07174136  0.02411727  0.06366048  0.15630072\n",
      "   0.01564748  0.02453208  0.05042689 -0.06258937  0.02556789 -0.07174136\n",
      "   0.06366048 -0.0124857   0.15630072  0.02453208 -0.04736984 -0.29824745]]\n"
     ]
    }
   ],
   "source": [
    "clf.fit(white_train_set, train_label.ravel())\n",
    "\n",
    "train_pred = clf.predict(white_train_set)\n",
    "test_pred = clf.predict(white_test_set)\n",
    "\n",
    "# If we don't predict proba and use predicted labels (binary) for ROC plotting, then we will have only three points for the plot\n",
    "test_pred_proba = clf.predict_proba(white_test_set)\n",
    "cv_score = cross_val_score(clf, white_train_set, train_label.ravel(), cv = 5)\n",
    "\n",
    "train_set_acc = acc_calculate(train_pred, train_label)\n",
    "test_set_acc = acc_calculate(test_pred, test_labels)\n",
    "\n",
    "print(\"From dataset 2:\")\n",
    "print(\"Train set accuracy: %f, train set error rate: %f\"%(train_set_acc, 1 - train_set_acc))\n",
    "print(\"Test set accuracy: %f, test set error rate: %f\"%(test_set_acc, 1 - test_set_acc))\n",
    "print(\"Cross validation score: \", cv_score)\n",
    "print(clf.coef_)"
   ]
  },
  {
   "cell_type": "markdown",
   "metadata": {},
   "source": [
    "Here I start to plot the ROC-AUC curve of Logistic regression classifier"
   ]
  },
  {
   "cell_type": "code",
   "execution_count": 124,
   "metadata": {},
   "outputs": [
    {
     "data": {
      "image/png": "[encoded data removed]",
      "text/plain": [
       "<Figure size 432x288 with 1 Axes>"
      ]
     },
     "metadata": {
      "needs_background": "light"
     },
     "output_type": "display_data"
    }
   ],
   "source": [
    "from sklearn.metrics import roc_curve, auc\n",
    "import matplotlib.pyplot as plt\n",
    "\n",
    "FP_r, TP_r, thes = roc_curve(test_labels, test_pred_proba[:, 1], drop_intermediate = False)\n",
    "auc_value = auc(FP_r, TP_r)\n",
    "\n",
    "plt.plot(FP_r, TP_r, label = 'Logistic Regression AUC = %f'%(auc_value), c = 'b')\n",
    "plt.plot([0., 1.], [0., 1.], label = 'Meaningless Classifier', c = 'k')\n",
    "plt.legend()\n",
    "plt.grid(axis = 'both')\n",
    "plt.show()"
   ]
  }
 ],
 "metadata": {
  "kernelspec": {
   "display_name": "Python 3.8.10 64-bit",
   "language": "python",
   "name": "python3"
  },
  "language_info": {
   "codemirror_mode": {
    "name": "ipython",
    "version": 3
   },
   "file_extension": ".py",
   "mimetype": "text/x-python",
   "name": "python",
   "nbconvert_exporter": "python",
   "pygments_lexer": "ipython3",
   "version": "3.8.10"
  },
  "orig_nbformat": 4,
  "vscode": {
   "interpreter": {
    "hash": "916dbcbb3f70747c44a77c7bcd40155683ae19c65e1c03b4aa3499c5328201f1"
   }
  }
 },
 "nbformat": 4,
 "nbformat_minor": 2
}
