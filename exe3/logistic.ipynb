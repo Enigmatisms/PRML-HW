{
 "cells": [
  {
   "cell_type": "code",
   "execution_count": 107,
   "metadata": {},
   "outputs": [
    {
     "name": "stdout",
     "output_type": "stream",
     "text": [
      "The autoreload extension is already loaded. To reload it, use:\n",
      "  %reload_ext autoreload\n"
     ]
    }
   ],
   "source": [
    "from sklearn.linear_model import LogisticRegression\n",
    "from sklearn.model_selection import StratifiedKFold, GridSearchCV\n",
    "from sklearn.model_selection import cross_val_predict, cross_val_score, cross_validate\n",
    "\n",
    "%load_ext autoreload\n",
    "%autoreload 2\n",
    "from utils import *"
   ]
  },
  {
   "cell_type": "markdown",
   "metadata": {},
   "source": [
    "Define Perceptron Parameter grid search function."
   ]
  },
  {
   "cell_type": "code",
   "execution_count": 108,
   "metadata": {},
   "outputs": [],
   "source": [
    "def grid_search_params():\n",
    "    parameters = {'max_iter': list(range(20, 201, 10)),\n",
    "            'l1_ratio': [0.0, 0.05, 0.15, 0.25],\n",
    "            'penalty': [None, 'l2','l1','elasticnet'],\n",
    "            'alpha': [0.0001, 0.01, 0.]\n",
    "    }\n",
    "    clf = LogisticRegression(fit_intercept = True, C=0.01, max_iter=350, solver='saga')\n",
    "    cv = StratifiedKFold(n_splits = 3, shuffle = True)\n",
    "    gridsearch = GridSearchCV(clf, parameters, n_jobs = 12, cv = cv, scoring = 'roc_auc',\n",
    "                                      verbose = 2, refit = True)\n",
    "\n",
    "    _, _, train_set, train_label = get_samples(\"./data/train1_icu_data.csv\", \"./data/train1_icu_label.csv\", ret_raw = True)\n",
    "    gridsearch.fit(train_set, train_label.ravel())\n",
    "\n",
    "    print(gridsearch.best_estimator_)"
   ]
  },
  {
   "cell_type": "markdown",
   "metadata": {},
   "source": [
    "Load training and testing dataset from dataset 1."
   ]
  },
  {
   "cell_type": "code",
   "execution_count": 109,
   "metadata": {},
   "outputs": [],
   "source": [
    "clf = clf = LogisticRegression(fit_intercept = True, C=0.01, max_iter=350, solver='saga')\n",
    "\n",
    "_, _, train_set, train_label = get_samples(\"./data/train1_icu_data.csv\", \"./data/train1_icu_label.csv\", ret_raw = True)\n",
    "_, _, raw_test, test_labels = get_samples(\"./data/test1_icu_data.csv\", \"./data/test1_icu_label.csv\", ret_raw = True)\n",
    "\n",
    "white_train_set = data_whitening(train_set)\n",
    "white_test_set = data_whitening(raw_test)"
   ]
  },
  {
   "cell_type": "code",
   "execution_count": 110,
   "metadata": {},
   "outputs": [],
   "source": [
    "clf.fit(white_train_set, train_label.ravel())\n",
    "\n",
    "train_pred = clf.predict(white_train_set)\n",
    "test_pred = clf.predict(white_test_set)"
   ]
  },
  {
   "cell_type": "markdown",
   "metadata": {},
   "source": [
    "After direct fitting and testing, we perform cross validation."
   ]
  },
  {
   "cell_type": "code",
   "execution_count": 111,
   "metadata": {},
   "outputs": [],
   "source": [
    "cv_score = cross_val_score(clf, white_train_set, train_label.ravel(), cv = 5)"
   ]
  },
  {
   "cell_type": "code",
   "execution_count": 112,
   "metadata": {},
   "outputs": [
    {
     "name": "stdout",
     "output_type": "stream",
     "text": [
      "From dataset 1:\n",
      "Train set accuracy: 0.796200, train set error rate: 0.203800\n",
      "Test set accuracy: 0.783045, test set error rate: 0.216955\n",
      "Cross validation score:  [0.782 0.781 0.811 0.783 0.771]\n"
     ]
    }
   ],
   "source": [
    "train_set_acc = acc_calculate(train_pred, train_label)\n",
    "test_set_acc = acc_calculate(test_pred, test_labels)\n",
    "\n",
    "print(\"From dataset 1:\")\n",
    "print(\"Train set accuracy: %f, train set error rate: %f\"%(train_set_acc, 1 - train_set_acc))\n",
    "print(\"Test set accuracy: %f, test set error rate: %f\"%(test_set_acc, 1 - test_set_acc))\n",
    "print(\"Cross validation score: \", cv_score)\n",
    "print(clf.coef_)"
   ]
  },
  {
   "cell_type": "markdown",
   "metadata": {},
   "source": [
    "> Train set accuracy: 0.730600, train set error rate: 0.269400 \n",
    "> Test set accuracy: 0.714676, test set error rate: 0.285324"
   ]
  },
  {
   "cell_type": "code",
   "execution_count": 113,
   "metadata": {},
   "outputs": [],
   "source": [
    "_, _, train_set, train_label = get_samples(\"./data/train2_icu_data.csv\", \"./data/train2_icu_label.csv\", ret_raw = True)\n",
    "_, _, raw_test, test_labels = get_samples(\"./data/test2_icu_data.csv\", \"./data/test2_icu_label.csv\", ret_raw = True)\n",
    "\n",
    "white_train_set = data_whitening(train_set)\n",
    "white_test_set = data_whitening(raw_test)"
   ]
  },
  {
   "cell_type": "code",
   "execution_count": 114,
   "metadata": {},
   "outputs": [
    {
     "name": "stdout",
     "output_type": "stream",
     "text": [
      "From dataset 2:\n",
      "Train set accuracy: 0.983051, train set error rate: 0.016949\n",
      "Test set accuracy: 0.795556, test set error rate: 0.204444\n",
      "Cross validation score:  [0.97966102 0.94576271 0.97627119 0.96949153 0.97966102]\n"
     ]
    }
   ],
   "source": [
    "clf.fit(white_train_set, train_label.ravel())\n",
    "\n",
    "train_pred = clf.predict(white_train_set)\n",
    "test_pred = clf.predict(white_test_set)\n",
    "\n",
    "# If we don't predict proba and use predicted labels (binary) for ROC plotting, then we will have only three points for the plot\n",
    "test_pred_proba = clf.predict_proba(white_test_set)\n",
    "cv_score = cross_val_score(clf, white_train_set, train_label.ravel(), cv = 5)\n",
    "\n",
    "train_set_acc = acc_calculate(train_pred, train_label)\n",
    "test_set_acc = acc_calculate(test_pred, test_labels)\n",
    "\n",
    "print(\"From dataset 2:\")\n",
    "print(\"Train set accuracy: %f, train set error rate: %f\"%(train_set_acc, 1 - train_set_acc))\n",
    "print(\"Test set accuracy: %f, test set error rate: %f\"%(test_set_acc, 1 - test_set_acc))\n",
    "print(\"Cross validation score: \", cv_score)\n",
    "print(clf.coef_)"
   ]
  },
  {
   "cell_type": "markdown",
   "metadata": {},
   "source": [
    "Here I start to plot the ROC-AUC curve of Logistic regression classifier"
   ]
  },
  {
   "cell_type": "code",
   "execution_count": 115,
   "metadata": {},
   "outputs": [
    {
     "data": {
      "image/png": "[encoded data removed]",
      "text/plain": [
       "<Figure size 432x288 with 1 Axes>"
      ]
     },
     "metadata": {
      "needs_background": "light"
     },
     "output_type": "display_data"
    }
   ],
   "source": [
    "from sklearn.metrics import roc_curve, auc\n",
    "import matplotlib.pyplot as plt\n",
    "\n",
    "FP_r, TP_r, thes = roc_curve(test_labels, test_pred_proba[:, 1], drop_intermediate = False)\n",
    "auc_value = auc(FP_r, TP_r)\n",
    "\n",
    "plt.plot(FP_r, TP_r, label = 'Logistic Regression AUC = %f'%(auc_value), c = 'b')\n",
    "plt.plot([0., 1.], [0., 1.], label = 'Meaningless Classifier', c = 'k')\n",
    "plt.legend()\n",
    "plt.grid(axis = 'both')\n",
    "plt.show()"
   ]
  }
 ],
 "metadata": {
  "kernelspec": {
   "display_name": "Python 3.8.10 64-bit",
   "language": "python",
   "name": "python3"
  },
  "language_info": {
   "codemirror_mode": {
    "name": "ipython",
    "version": 3
   },
   "file_extension": ".py",
   "mimetype": "text/x-python",
   "name": "python",
   "nbconvert_exporter": "python",
   "pygments_lexer": "ipython3",
   "version": "3.8.10"
  },
  "orig_nbformat": 4,
  "vscode": {
   "interpreter": {
    "hash": "916dbcbb3f70747c44a77c7bcd40155683ae19c65e1c03b4aa3499c5328201f1"
   }
  }
 },
 "nbformat": 4,
 "nbformat_minor": 2
}
