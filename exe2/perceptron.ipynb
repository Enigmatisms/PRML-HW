{
 "cells": [
  {
   "cell_type": "code",
   "execution_count": 57,
   "metadata": {},
   "outputs": [],
   "source": [
    "from sklearn.linear_model import Perceptron\n",
    "from sklearn.model_selection import StratifiedKFold, GridSearchCV\n",
    "from sklearn.model_selection import cross_val_predict, cross_val_score, cross_validate\n",
    "import sys\n",
    "sys.path.append(\"..\")\n",
    "from general.utils import *"
   ]
  },
  {
   "cell_type": "markdown",
   "metadata": {},
   "source": [
    "Define Perceptron Parameter grid search function."
   ]
  },
  {
   "cell_type": "code",
   "execution_count": 58,
   "metadata": {},
   "outputs": [],
   "source": [
    "def grid_search_params():\n",
    "    parameters = {'max_iter': list(range(20, 201, 10)),\n",
    "            'l1_ratio': [0.0, 0.05, 0.15, 0.25],\n",
    "            'penalty': [None, 'l2','l1','elasticnet'],\n",
    "            'alpha': [0.0001, 0.01, 0.]\n",
    "    }\n",
    "    clf = Perceptron(fit_intercept = True, shuffle = True)\n",
    "    cv = StratifiedKFold(n_splits = 3, shuffle = True)\n",
    "    gridsearch = GridSearchCV(clf, parameters, n_jobs = 12, cv = cv, scoring = 'roc_auc',\n",
    "                                      verbose = 2, refit = True)\n",
    "\n",
    "    _, _, train_set, train_label = get_samples(\"./data/train1_icu_data.csv\", \"./data/train1_icu_label.csv\", ret_raw = True)\n",
    "    gridsearch.fit(train_set, train_label.ravel())\n",
    "\n",
    "    print(gridsearch.best_estimator_)\n",
    "\n",
    "    # Best estimator: Perceptron(alpha=0.01, l1_ratio=0.0, max_iter=40, penalty='l1')"
   ]
  },
  {
   "cell_type": "markdown",
   "metadata": {},
   "source": [
    "Load training and testing dataset from dataset 1."
   ]
  },
  {
   "cell_type": "code",
   "execution_count": 59,
   "metadata": {},
   "outputs": [],
   "source": [
    "# grid_search_params()\n",
    "# According to GridSearchCV (a rough one), I can have the best perceptron estimator\n",
    "\n",
    "clf = Perceptron(fit_intercept = True, shuffle = True, max_iter = 100, l1_ratio = 0.0, alpha = 0.01, penalty='l1')\n",
    "\n",
    "_, _, train_set, train_label = get_samples(\"./data/train1_icu_data.csv\", \"./data/train1_icu_label.csv\", ret_raw = True)\n",
    "_, _, raw_test, test_labels = get_samples(\"./data/test1_icu_data.csv\", \"./data/test1_icu_label.csv\", ret_raw = True)"
   ]
  },
  {
   "cell_type": "code",
   "execution_count": 60,
   "metadata": {},
   "outputs": [],
   "source": [
    "clf.fit(train_set, train_label.ravel())\n",
    "\n",
    "train_pred = clf.predict(train_set)\n",
    "test_pred = clf.predict(raw_test)"
   ]
  },
  {
   "cell_type": "markdown",
   "metadata": {},
   "source": [
    "After direct fitting and testing, we perform cross validation."
   ]
  },
  {
   "cell_type": "code",
   "execution_count": 61,
   "metadata": {},
   "outputs": [],
   "source": [
    "cv_score = cross_val_score(clf, train_set, train_label.ravel(), cv = 5)"
   ]
  },
  {
   "cell_type": "code",
   "execution_count": 62,
   "metadata": {},
   "outputs": [
    {
     "name": "stdout",
     "output_type": "stream",
     "text": [
      "From dataset 1:\n",
      "Train set accuracy: 0.716800, train set error rate: 0.283200\n",
      "Test set accuracy: 0.727438, test set error rate: 0.272562\n",
      "Cross validation score:  [0.699 0.744 0.711 0.609 0.645]\n"
     ]
    }
   ],
   "source": [
    "train_set_acc = acc_calculate(train_pred, train_label)\n",
    "test_set_acc = acc_calculate(test_pred, test_labels)\n",
    "\n",
    "print(\"From dataset 1:\")\n",
    "print(\"Train set accuracy: %f, train set error rate: %f\"%(train_set_acc, 1 - train_set_acc))\n",
    "print(\"Test set accuracy: %f, test set error rate: %f\"%(test_set_acc, 1 - test_set_acc))\n",
    "print(\"Cross validation score: \", cv_score)"
   ]
  },
  {
   "cell_type": "markdown",
   "metadata": {},
   "source": [
    "> Train set accuracy: 0.730600, train set error rate: 0.269400 \n",
    "> Test set accuracy: 0.714676, test set error rate: 0.285324"
   ]
  },
  {
   "cell_type": "code",
   "execution_count": 63,
   "metadata": {},
   "outputs": [],
   "source": [
    "_, _, train_set, train_label = get_samples(\"./data/train2_icu_data.csv\", \"./data/train2_icu_label.csv\", ret_raw = True)\n",
    "_, _, raw_test, test_labels = get_samples(\"./data/test2_icu_data.csv\", \"./data/test2_icu_label.csv\", ret_raw = True)"
   ]
  },
  {
   "cell_type": "code",
   "execution_count": 64,
   "metadata": {},
   "outputs": [
    {
     "name": "stdout",
     "output_type": "stream",
     "text": [
      "From dataset 2:\n",
      "Train set accuracy: 0.842712, train set error rate: 0.157288\n",
      "Test set accuracy: 0.784444, test set error rate: 0.215556\n",
      "Cross validation score:  [0.84067797 0.81355932 0.74915254 0.79661017 0.80338983]\n"
     ]
    }
   ],
   "source": [
    "clf.fit(train_set, train_label.ravel())\n",
    "\n",
    "train_pred = clf.predict(train_set)\n",
    "test_pred = clf.predict(raw_test)\n",
    "cv_score = cross_val_score(clf, train_set, train_label.ravel(), cv = 5)\n",
    "\n",
    "train_set_acc = acc_calculate(train_pred, train_label)\n",
    "test_set_acc = acc_calculate(test_pred, test_labels)\n",
    "\n",
    "print(\"From dataset 2:\")\n",
    "print(\"Train set accuracy: %f, train set error rate: %f\"%(train_set_acc, 1 - train_set_acc))\n",
    "print(\"Test set accuracy: %f, test set error rate: %f\"%(test_set_acc, 1 - test_set_acc))\n",
    "print(\"Cross validation score: \", cv_score)"
   ]
  }
 ],
 "metadata": {
  "kernelspec": {
   "display_name": "Python 3.8.10 64-bit",
   "language": "python",
   "name": "python3"
  },
  "language_info": {
   "codemirror_mode": {
    "name": "ipython",
    "version": 3
   },
   "file_extension": ".py",
   "mimetype": "text/x-python",
   "name": "python",
   "nbconvert_exporter": "python",
   "pygments_lexer": "ipython3",
   "version": "3.8.10"
  },
  "orig_nbformat": 4,
  "vscode": {
   "interpreter": {
    "hash": "916dbcbb3f70747c44a77c7bcd40155683ae19c65e1c03b4aa3499c5328201f1"
   }
  }
 },
 "nbformat": 4,
 "nbformat_minor": 2
}
