{
 "cells": [
  {
   "cell_type": "code",
   "execution_count": 1,
   "metadata": {},
   "outputs": [],
   "source": [
    "from sklearn.linear_model import LogisticRegression\n",
    "from sklearn.model_selection import StratifiedKFold, GridSearchCV\n",
    "from sklearn.model_selection import cross_val_predict, cross_val_score, cross_validate\n",
    "\n",
    "%load_ext autoreload\n",
    "%autoreload 2\n",
    "import sys\n",
    "sys.path.append(\"..\")\n",
    "from general.utils import *"
   ]
  },
  {
   "cell_type": "markdown",
   "metadata": {},
   "source": [
    "Define Perceptron Parameter grid search function."
   ]
  },
  {
   "cell_type": "code",
   "execution_count": 2,
   "metadata": {},
   "outputs": [],
   "source": [
    "def grid_search_params():\n",
    "    parameters = {'max_iter': list(range(20, 201, 10)),\n",
    "            'l1_ratio': [0.0, 0.05, 0.15, 0.25],\n",
    "            'penalty': [None, 'l2','l1','elasticnet'],\n",
    "            'alpha': [0.0001, 0.01, 0.]\n",
    "    }\n",
    "    clf = LogisticRegression(fit_intercept = True, C=0.01, max_iter=350, solver='saga')\n",
    "    cv = StratifiedKFold(n_splits = 3, shuffle = True)\n",
    "    gridsearch = GridSearchCV(clf, parameters, n_jobs = 12, cv = cv, scoring = 'roc_auc',\n",
    "                                      verbose = 2, refit = True)\n",
    "\n",
    "    _, _, train_set, train_label = get_samples(\"./data/train1_icu_data.csv\", \"./data/train1_icu_label.csv\", ret_raw = True)\n",
    "    gridsearch.fit(train_set, train_label.ravel())\n",
    "\n",
    "    print(gridsearch.best_estimator_)"
   ]
  },
  {
   "cell_type": "markdown",
   "metadata": {},
   "source": [
    "Load training and testing dataset from dataset 1."
   ]
  },
  {
   "cell_type": "code",
   "execution_count": 3,
   "metadata": {},
   "outputs": [],
   "source": [
    "clf = clf = LogisticRegression(fit_intercept = True, C=0.01, max_iter=350, solver='saga')\n",
    "\n",
    "_, _, train_set, train_label = get_samples(\"./data/train1_icu_data.csv\", \"./data/train1_icu_label.csv\", ret_raw = True)\n",
    "_, _, raw_test, test_labels = get_samples(\"./data/test1_icu_data.csv\", \"./data/test1_icu_label.csv\", ret_raw = True)\n",
    "\n",
    "white_train_set = data_whitening(train_set)\n",
    "white_test_set = data_whitening(raw_test)"
   ]
  },
  {
   "cell_type": "code",
   "execution_count": 4,
   "metadata": {},
   "outputs": [],
   "source": [
    "clf.fit(white_train_set, train_label.ravel())\n",
    "\n",
    "train_pred = clf.predict(white_train_set)\n",
    "test_pred = clf.predict(white_test_set)"
   ]
  },
  {
   "cell_type": "markdown",
   "metadata": {},
   "source": [
    "After direct fitting and testing, we perform cross validation."
   ]
  },
  {
   "cell_type": "code",
   "execution_count": 5,
   "metadata": {},
   "outputs": [],
   "source": [
    "cv_score = cross_val_score(clf, white_train_set, train_label.ravel(), cv = 5)"
   ]
  },
  {
   "cell_type": "code",
   "execution_count": 6,
   "metadata": {},
   "outputs": [
    {
     "name": "stdout",
     "output_type": "stream",
     "text": [
      "From dataset 1:\n",
      "Train set accuracy: 0.796200, train set error rate: 0.203800\n",
      "Test set accuracy: 0.783045, test set error rate: 0.216955\n",
      "Cross validation score:  [0.782 0.781 0.811 0.783 0.771]\n",
      "[[ 3.29466121e-01  3.37259485e-03 -1.59421769e-01 -3.03055546e-02\n",
      "   1.46090000e-01 -5.17776896e-02  4.39231707e-02 -9.57589746e-02\n",
      "   4.97488221e-02  2.37174313e-01  6.76601592e-02 -1.33511561e-01\n",
      "  -2.13923116e-01 -1.35878572e-01 -2.90357777e-02  6.88240593e-02\n",
      "   6.34363522e-02  6.35153580e-02  5.43020869e-02  6.56764668e-02\n",
      "  -1.36186010e-01 -5.13368121e-02  3.26891791e-01  2.00200101e-01\n",
      "   2.66102365e-02 -3.32244932e-02  2.09174185e-01  9.27849466e-02\n",
      "  -6.41122298e-02 -1.24154674e-01  6.15940320e-02  1.07279477e-02\n",
      "  -8.55320879e-02 -2.67693049e-01 -3.07230943e-02 -1.32460911e-01\n",
      "   1.10357805e-01 -2.39429016e-01  5.52667751e-02 -1.73026911e-02\n",
      "  -1.33191643e-01  3.02575382e-02 -1.31585882e-02 -1.28186126e-01\n",
      "   7.84161474e-02  1.30431874e-01 -5.56566200e-02  4.03458247e-02\n",
      "  -1.36564455e-02  1.16479544e-01 -1.13380578e-01 -4.04579532e-02\n",
      "   1.03332877e-01 -1.54796010e-01  3.74805120e-02 -3.50997614e-02\n",
      "  -8.01364496e-02 -1.74405802e-01 -8.32984389e-02  9.61251202e-02\n",
      "  -3.20783791e-02  3.47386626e-02  3.50012063e-01 -9.87958492e-03\n",
      "   1.00487055e-01 -3.63861273e-02  1.11200330e-01  1.07902163e-01\n",
      "   8.86021130e-03 -1.49707886e-02  1.63312611e-01 -1.18079284e-02\n",
      "   2.37645143e-03  3.01026494e-04  2.92628130e-02 -5.45900235e-03\n",
      "  -1.48276648e-02 -5.43785081e-02  5.43785081e-02  1.19513707e-02\n",
      "  -2.14562324e-02  5.96440561e-02  3.77100099e-02 -1.96711993e-02\n",
      "  -4.73885699e-02  5.03082303e-02 -2.83144441e-03 -6.12312051e-02\n",
      "  -1.50825627e-02 -3.97489048e-02 -1.36349582e-02  9.59607684e-03\n",
      "  -8.43058144e-02  1.07734285e-01  5.73995355e-02  5.41808741e-02\n",
      "   1.58642403e-02  1.01267530e-02  4.56027782e-02 -1.50825627e-02\n",
      "   9.59607684e-03 -8.43058144e-02  5.73995355e-02 -4.21070948e-02\n",
      "   5.41808741e-02  1.01267530e-02 -6.86846330e-02 -1.98795664e-01]]\n"
     ]
    }
   ],
   "source": [
    "train_set_acc = acc_calculate(train_pred, train_label)\n",
    "test_set_acc = acc_calculate(test_pred, test_labels)\n",
    "\n",
    "print(\"From dataset 1:\")\n",
    "print(\"Train set accuracy: %f, train set error rate: %f\"%(train_set_acc, 1 - train_set_acc))\n",
    "print(\"Test set accuracy: %f, test set error rate: %f\"%(test_set_acc, 1 - test_set_acc))\n",
    "print(\"Cross validation score: \", cv_score)\n",
    "print(clf.coef_)"
   ]
  },
  {
   "cell_type": "markdown",
   "metadata": {},
   "source": [
    "> Train set accuracy: 0.730600, train set error rate: 0.269400 \n",
    "> Test set accuracy: 0.714676, test set error rate: 0.285324"
   ]
  },
  {
   "cell_type": "code",
   "execution_count": 7,
   "metadata": {},
   "outputs": [],
   "source": [
    "_, _, train_set, train_label = get_samples(\"./data/train2_icu_data.csv\", \"./data/train2_icu_label.csv\", ret_raw = True)\n",
    "_, _, raw_test, test_labels = get_samples(\"./data/test2_icu_data.csv\", \"./data/test2_icu_label.csv\", ret_raw = True)\n",
    "\n",
    "white_train_set = data_whitening(train_set)\n",
    "white_test_set = data_whitening(raw_test)"
   ]
  },
  {
   "cell_type": "code",
   "execution_count": 8,
   "metadata": {},
   "outputs": [
    {
     "name": "stdout",
     "output_type": "stream",
     "text": [
      "From dataset 2:\n",
      "Train set accuracy: 0.983051, train set error rate: 0.016949\n",
      "Test set accuracy: 0.795556, test set error rate: 0.204444\n",
      "Cross validation score:  [0.97966102 0.94576271 0.97627119 0.96949153 0.97966102]\n",
      "[[ 0.26678785 -0.06792856 -0.06969005  0.00181654  0.26504395 -0.07078563\n",
      "  -0.06010102 -0.14759607  0.07854742  0.30488954  0.10286533 -0.35593146\n",
      "  -0.21690229 -0.4071427   0.07252359  0.15741927  0.03672555  0.2493768\n",
      "   0.04520949  0.12633401 -0.01447616 -0.10537629  0.7845947   0.1277095\n",
      "  -0.04903757 -0.14891773  0.2270866   0.02586762  0.00462221 -0.16703392\n",
      "   0.11151332  0.02924977 -0.00204965 -0.14090352 -0.0548188  -0.18493288\n",
      "   0.09839918 -0.18080591 -0.00592328  0.01338791 -0.00959359  0.06381749\n",
      "  -0.00410328 -0.04326107  0.08026669  0.15276504 -0.11640129  0.00683822\n",
      "  -0.05388616  0.00755684 -0.16133335 -0.11063307 -0.00509247 -0.11663367\n",
      "  -0.00797813 -0.14486432 -0.04849507 -0.08679666  0.00793238  0.06792289\n",
      "  -0.00575892 -0.01423122  0.2654771  -0.01875907  0.18932536 -0.07596248\n",
      "   0.10830973  0.18076174  0.03797095 -0.01081552  0.20231513 -0.04151063\n",
      "   0.06389869 -0.01866429  0.04821872  0.00651184  0.00710433  0.01677779\n",
      "  -0.01677779 -0.00729154  0.00387347 -0.11765591  0.02660555  0.00357589\n",
      "   0.00286634 -0.00791235  0.0521051  -0.10248115 -0.06259899 -0.01249595\n",
      "   0.          0.02555537 -0.07175181  0.02402319  0.06363502  0.15632859\n",
      "   0.01569687  0.02454743  0.05040419 -0.06259899  0.02555537 -0.07175181\n",
      "   0.06363502 -0.01249595  0.15632859  0.02454743 -0.04730966 -0.29819827]]\n"
     ]
    }
   ],
   "source": [
    "clf.fit(white_train_set, train_label.ravel())\n",
    "\n",
    "train_pred = clf.predict(white_train_set)\n",
    "test_pred = clf.predict(white_test_set)\n",
    "\n",
    "# If we don't predict proba and use predicted labels (binary) for ROC plotting, then we will have only three points for the plot\n",
    "test_pred_proba = clf.predict_proba(white_test_set)\n",
    "cv_score = cross_val_score(clf, white_train_set, train_label.ravel(), cv = 5)\n",
    "\n",
    "train_set_acc = acc_calculate(train_pred, train_label)\n",
    "test_set_acc = acc_calculate(test_pred, test_labels)\n",
    "\n",
    "print(\"From dataset 2:\")\n",
    "print(\"Train set accuracy: %f, train set error rate: %f\"%(train_set_acc, 1 - train_set_acc))\n",
    "print(\"Test set accuracy: %f, test set error rate: %f\"%(test_set_acc, 1 - test_set_acc))\n",
    "print(\"Cross validation score: \", cv_score)\n",
    "print(clf.coef_)"
   ]
  },
  {
   "cell_type": "markdown",
   "metadata": {},
   "source": [
    "Here I start to plot the ROC-AUC curve of Logistic regression classifier"
   ]
  },
  {
   "cell_type": "code",
   "execution_count": 9,
   "metadata": {},
   "outputs": [
    {
     "data": {
      "image/png": "[encoded data removed]",
      "text/plain": [
       "<Figure size 432x288 with 1 Axes>"
      ]
     },
     "metadata": {
      "needs_background": "light"
     },
     "output_type": "display_data"
    }
   ],
   "source": [
    "from sklearn.metrics import roc_curve, auc\n",
    "import matplotlib.pyplot as plt\n",
    "\n",
    "FP_r, TP_r, thes = roc_curve(test_labels, test_pred_proba[:, 1], drop_intermediate = False)\n",
    "auc_value = auc(FP_r, TP_r)\n",
    "\n",
    "plt.plot(FP_r, TP_r, label = 'Logistic Regression AUC = %f'%(auc_value), c = 'b')\n",
    "plt.plot([0., 1.], [0., 1.], label = 'Meaningless Classifier', c = 'k')\n",
    "plt.legend()\n",
    "plt.grid(axis = 'both')\n",
    "plt.show()"
   ]
  }
 ],
 "metadata": {
  "kernelspec": {
   "display_name": "Python 3.8.10 64-bit",
   "language": "python",
   "name": "python3"
  },
  "language_info": {
   "codemirror_mode": {
    "name": "ipython",
    "version": 3
   },
   "file_extension": ".py",
   "mimetype": "text/x-python",
   "name": "python",
   "nbconvert_exporter": "python",
   "pygments_lexer": "ipython3",
   "version": "3.8.10"
  },
  "orig_nbformat": 4,
  "vscode": {
   "interpreter": {
    "hash": "916dbcbb3f70747c44a77c7bcd40155683ae19c65e1c03b4aa3499c5328201f1"
   }
  }
 },
 "nbformat": 4,
 "nbformat_minor": 2
}
